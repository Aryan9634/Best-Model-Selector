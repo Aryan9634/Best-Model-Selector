{
 "cells": [
  {
   "cell_type": "code",
   "execution_count": 1,
   "id": "aff67a32",
   "metadata": {},
   "outputs": [
    {
     "name": "stderr",
     "output_type": "stream",
     "text": [
      "C:\\Python310\\lib\\site-packages\\scipy\\__init__.py:146: UserWarning: A NumPy version >=1.16.5 and <1.23.0 is required for this version of SciPy (detected version 1.24.2\n",
      "  warnings.warn(f\"A NumPy version >={np_minversion} and <{np_maxversion}\"\n"
     ]
    }
   ],
   "source": [
    "#Data preprocessing\n",
    "import numpy as np\n",
    "import pandas as pd\n",
    "import re\n",
    "from imblearn.over_sampling import SMOTE \n",
    "\n",
    "#Data Transformation\n",
    "from sklearn.neighbors import KNeighborsClassifier,KNeighborsRegressor\n",
    "from sklearn.svm import SVC,SVR\n",
    "from sklearn.linear_model import LogisticRegression,LinearRegression,Lasso,Ridge\n",
    "from sklearn.tree import DecisionTreeClassifier,DecisionTreeRegressor\n",
    "from sklearn.ensemble import AdaBoostClassifier,GradientBoostingClassifier,RandomForestClassifier,VotingClassifier\n",
    "from sklearn.ensemble import AdaBoostRegressor,GradientBoostingRegressor,RandomForestRegressor\n",
    "from sklearn.model_selection import train_test_split,StratifiedKFold,KFold\n",
    "from sklearn.preprocessing import LabelEncoder,StandardScaler,RobustScaler\n",
    "from sklearn.pipeline import Pipeline\n",
    "from sklearn.metrics import accuracy_score,mean_squared_error\n",
    "\n",
    "#Data visualisation\n",
    "import seaborn as sns\n",
    "import matplotlib.pyplot as plt\n",
    "%matplotlib inline\n",
    "\n",
    "#Handling warnings\n",
    "import warnings\n",
    "warnings.filterwarnings(\"ignore\")\n",
    "\n",
    "import os\n",
    "import pickle\n",
    "\n",
    "#flask\n",
    "from flask import Flask, request, jsonify, render_template\n",
    "import pandas as pd"
   ]
  },
  {
   "cell_type": "code",
   "execution_count": 2,
   "id": "ef805956",
   "metadata": {},
   "outputs": [],
   "source": [
    "def BMC(data):\n",
    "    le = LabelEncoder()\n",
    "    pipeline = Pipeline([(\"robust scaler\",RobustScaler()),(\"std_scaler\",StandardScaler())])\n",
    "    X,y = data.iloc[:,:-1],data.iloc[:,-1]\n",
    "    for col in X.select_dtypes(\"O\").columns:\n",
    "        X[col] = le.fit_transform(X[col])\n",
    "    for col in X.columns:\n",
    "        X[col]=pipeline.fit_transform(np.array(X[col]).reshape(-1,1))\n",
    "    model_train,model_test = [],[]\n",
    "    if y.dtype in [object]:\n",
    "        estimators = {\"K-Nearest Neighbor\":KNeighborsClassifier(),\n",
    "                     \"Support Vector Classifier\":SVC(),\"Decision Tree Classifier\":DecisionTreeClassifier(),\n",
    "                     \"AdaBoostClassifier\":AdaBoostClassifier(),\n",
    "                     \"Gradient Boosting Classifier\":GradientBoostingClassifier(),\n",
    "                     \"Logistic Regression\":LogisticRegression()}\n",
    "        str_kfold = StratifiedKFold(n_splits=10)\n",
    "        for estimator in estimators.values():\n",
    "            train_scores,test_scores = [],[]\n",
    "            for train_index,test_index in str_kfold.split(X,y):\n",
    "                X_train,X_test = X.iloc[train_index,:],X.iloc[test_index,:]\n",
    "                y_train,y_test = y.iloc[train_index],y.iloc[test_index]\n",
    "                estimator.fit(X_train,y_train)\n",
    "                train_scores.append(estimator.score(X_train,y_train))\n",
    "                test_scores.append(estimator.score(X_test,y_test))\n",
    "            model_train.append(np.round(np.array(train_scores).mean(),3))\n",
    "            model_test.append(np.round(np.array(test_scores).mean(),3))\n",
    "        df = pd.DataFrame({\"Model\":estimators.keys(),\n",
    "                 \"Train Score\":model_train,\n",
    "                 \"Test Score\":model_test})\n",
    "        df = df.nlargest(8,columns=[\"Train Score\",\"Test Score\"])\n",
    "    elif y.dtype in [float,int]:\n",
    "        estimators = {\"K-Nearest Neighbor\":KNeighborsRegressor(),\n",
    "                     \"Support Vector Regressor\":SVR(),\"DecisionTreeRegressor\":DecisionTreeRegressor(),\n",
    "                     \"AdaBoostRegressor\":AdaBoostRegressor(),\n",
    "                     \"GradientBoostingRegressor\":GradientBoostingRegressor(),\n",
    "                     \"Linear Regression\":LinearRegression(),\n",
    "                     \"Lasso Regression\":Lasso(),\"Ridge Regression\":Ridge()}\n",
    "        kfold = KFold(n_splits=10)\n",
    "        for estimator in estimators.values():\n",
    "            train_errors,test_errors = [],[]\n",
    "            for train_index,test_index in kfold.split(X,y):\n",
    "                X_train,X_test = X.iloc[train_index,:],X.iloc[test_index,:]\n",
    "                y_train,y_test = y.iloc[train_index],y.iloc[test_index]\n",
    "                estimator.fit(X_train,y_train)\n",
    "                train_pred = estimator.predict(X_train)\n",
    "                test_pred = estimator.predict(X_test)\n",
    "                train_errors.append(mean_squared_error(y_train,train_pred))\n",
    "                test_errors.append(mean_squared_error(y_test,test_pred))\n",
    "            model_train.append(np.array(train_errors).mean())\n",
    "            model_test.append(np.array(test_errors).mean())\n",
    "        df = pd.DataFrame({\"Model\":estimators.keys(),\n",
    "                     \"Train Errors\":np.round(np.sqrt(np.array(model_train)),3),\n",
    "                     \"Test Errors\":np.round(np.sqrt(np.array(model_test)),3)})\n",
    "        df = df.nsmallest(8,columns=[\"Train Errors\",\"Test Errors\"])\n",
    "    return df"
   ]
  },
  {
   "cell_type": "code",
   "execution_count": 3,
   "id": "eb17c5e4",
   "metadata": {},
   "outputs": [
    {
     "name": "stdout",
     "output_type": "stream",
     "text": [
      " * Serving Flask app '__main__' (lazy loading)\n",
      " * Environment: production\n",
      "\u001b[31m   WARNING: This is a development server. Do not use it in a production deployment.\u001b[0m\n",
      "\u001b[2m   Use a production WSGI server instead.\u001b[0m\n",
      " * Debug mode: off\n"
     ]
    },
    {
     "name": "stderr",
     "output_type": "stream",
     "text": [
      " * Running on http://127.0.0.1:5000/ (Press CTRL+C to quit)\n",
      "127.0.0.1 - - [23/Mar/2023 17:28:43] \"GET / HTTP/1.1\" 200 -\n",
      "127.0.0.1 - - [23/Mar/2023 17:28:43] \"GET /static/4.jpg HTTP/1.1\" 304 -\n",
      "127.0.0.1 - - [23/Mar/2023 17:28:43] \"GET /favicon.ico HTTP/1.1\" 404 -\n",
      "127.0.0.1 - - [23/Mar/2023 17:28:57] \"POST /file HTTP/1.1\" 200 -\n",
      "127.0.0.1 - - [23/Mar/2023 17:28:57] \"GET /static/4.jpg HTTP/1.1\" 304 -\n"
     ]
    }
   ],
   "source": [
    "app = Flask(__name__)\n",
    "@app.route(\"/\")\n",
    "def DefaultFunction():\n",
    "    return render_template(\"index.html\")\n",
    "@app.route('/file',methods=[\"POST\",\"GET\"])\n",
    "def a():\n",
    "    file = request.files[\"file\"]\n",
    "    df = pd.read_csv(file)\n",
    "    df = BMC(df)\n",
    "    data,best_model = df,df.iloc[0][\"Model\"]\n",
    "    return render_template(\"index.html\",data=data.values,bmod=best_model)\n",
    "if __name__==\"__main__\":\n",
    "    app.run(debug=False)"
   ]
  },
  {
   "cell_type": "code",
   "execution_count": null,
   "id": "00454bc5",
   "metadata": {},
   "outputs": [],
   "source": []
  },
  {
   "cell_type": "code",
   "execution_count": null,
   "id": "64c3f6c0",
   "metadata": {},
   "outputs": [],
   "source": []
  }
 ],
 "metadata": {
  "kernelspec": {
   "display_name": "Python 3 (ipykernel)",
   "language": "python",
   "name": "python3"
  },
  "language_info": {
   "codemirror_mode": {
    "name": "ipython",
    "version": 3
   },
   "file_extension": ".py",
   "mimetype": "text/x-python",
   "name": "python",
   "nbconvert_exporter": "python",
   "pygments_lexer": "ipython3",
   "version": "3.10.0"
  }
 },
 "nbformat": 4,
 "nbformat_minor": 5
}
