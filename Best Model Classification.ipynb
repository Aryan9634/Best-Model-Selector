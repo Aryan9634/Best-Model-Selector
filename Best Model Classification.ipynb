{
 "cells": [
  {
   "cell_type": "markdown",
   "id": "ba6c54e3",
   "metadata": {},
   "source": [
    "<u>Importing required modules</u>"
   ]
  },
  {
   "cell_type": "code",
   "execution_count": 16,
   "id": "cddabbf7",
   "metadata": {},
   "outputs": [],
   "source": [
    "#Data preprocessing\n",
    "import numpy as np\n",
    "import pandas as pd\n",
    "import re\n",
    "from imblearn.over_sampling import SMOTE \n",
    "\n",
    "#Data Transformation\n",
    "from sklearn.neighbors import KNeighborsClassifier,KNeighborsRegressor\n",
    "from sklearn.svm import SVC,SVR\n",
    "from sklearn.linear_model import LogisticRegression,LinearRegression,Lasso,Ridge\n",
    "from sklearn.tree import DecisionTreeClassifier,DecisionTreeRegressor\n",
    "from sklearn.ensemble import AdaBoostClassifier,GradientBoostingClassifier,RandomForestClassifier,VotingClassifier\n",
    "from sklearn.ensemble import AdaBoostRegressor,GradientBoostingRegressor,RandomForestRegressor\n",
    "from sklearn.model_selection import train_test_split,StratifiedKFold,KFold\n",
    "from sklearn.preprocessing import LabelEncoder,StandardScaler,RobustScaler\n",
    "from sklearn.pipeline import Pipeline\n",
    "from sklearn.metrics import accuracy_score,mean_squared_error\n",
    "\n",
    "#Data visualisation\n",
    "import seaborn as sns\n",
    "import matplotlib.pyplot as plt\n",
    "%matplotlib inline\n",
    "\n",
    "#Handling warnings\n",
    "import warnings\n",
    "warnings.filterwarnings(\"ignore\")\n",
    "\n",
    "import os\n",
    "import pickle"
   ]
  },
  {
   "cell_type": "markdown",
   "id": "1a20ba79",
   "metadata": {},
   "source": [
    "<u>Loading data</u>\n",
    "\n",
    "Constraints;\n",
    "- Your dataset must be clean and targets should be present at the last column\n",
    "- Your datasets must be in the Samples folder"
   ]
  },
  {
   "cell_type": "code",
   "execution_count": 4,
   "id": "cc100437",
   "metadata": {},
   "outputs": [
    {
     "name": "stdout",
     "output_type": "stream",
     "text": [
      "Enter desired dataset : SampleSuperstore.csv\n"
     ]
    }
   ],
   "source": [
    "req_data = input(\"Enter desired dataset : \")\n",
    "if req_data not in os.listdir('Samples/'):\n",
    "    print(\"No such dataset\")\n",
    "else:\n",
    "    if re.findall(\"\\.[a-z]+\",req_data)[0][1:]==\"csv\":\n",
    "        data = pd.read_csv(f'Samples/{req_data}')\n",
    "    elif re.findall(\"\\.[a-z]+\",req_data)[0][1:]==\"xlsx\":\n",
    "        data = pd.read_excel(f'Samples/{req_data}')"
   ]
  },
  {
   "cell_type": "code",
   "execution_count": 5,
   "id": "60675cc1",
   "metadata": {},
   "outputs": [
    {
     "data": {
      "text/html": [
       "<div>\n",
       "<style scoped>\n",
       "    .dataframe tbody tr th:only-of-type {\n",
       "        vertical-align: middle;\n",
       "    }\n",
       "\n",
       "    .dataframe tbody tr th {\n",
       "        vertical-align: top;\n",
       "    }\n",
       "\n",
       "    .dataframe thead th {\n",
       "        text-align: right;\n",
       "    }\n",
       "</style>\n",
       "<table border=\"1\" class=\"dataframe\">\n",
       "  <thead>\n",
       "    <tr style=\"text-align: right;\">\n",
       "      <th></th>\n",
       "      <th>Ship Mode</th>\n",
       "      <th>Segment</th>\n",
       "      <th>Country</th>\n",
       "      <th>City</th>\n",
       "      <th>State</th>\n",
       "      <th>Postal Code</th>\n",
       "      <th>Region</th>\n",
       "      <th>Category</th>\n",
       "      <th>Sub-Category</th>\n",
       "      <th>Sales</th>\n",
       "      <th>Quantity</th>\n",
       "      <th>Discount</th>\n",
       "      <th>Profit</th>\n",
       "    </tr>\n",
       "  </thead>\n",
       "  <tbody>\n",
       "    <tr>\n",
       "      <th>0</th>\n",
       "      <td>Second Class</td>\n",
       "      <td>Consumer</td>\n",
       "      <td>United States</td>\n",
       "      <td>Henderson</td>\n",
       "      <td>Kentucky</td>\n",
       "      <td>42420</td>\n",
       "      <td>South</td>\n",
       "      <td>Furniture</td>\n",
       "      <td>Bookcases</td>\n",
       "      <td>261.96</td>\n",
       "      <td>2</td>\n",
       "      <td>0.0</td>\n",
       "      <td>41.9136</td>\n",
       "    </tr>\n",
       "    <tr>\n",
       "      <th>1</th>\n",
       "      <td>Second Class</td>\n",
       "      <td>Consumer</td>\n",
       "      <td>United States</td>\n",
       "      <td>Henderson</td>\n",
       "      <td>Kentucky</td>\n",
       "      <td>42420</td>\n",
       "      <td>South</td>\n",
       "      <td>Furniture</td>\n",
       "      <td>Chairs</td>\n",
       "      <td>731.94</td>\n",
       "      <td>3</td>\n",
       "      <td>0.0</td>\n",
       "      <td>219.5820</td>\n",
       "    </tr>\n",
       "    <tr>\n",
       "      <th>2</th>\n",
       "      <td>Second Class</td>\n",
       "      <td>Corporate</td>\n",
       "      <td>United States</td>\n",
       "      <td>Los Angeles</td>\n",
       "      <td>California</td>\n",
       "      <td>90036</td>\n",
       "      <td>West</td>\n",
       "      <td>Office Supplies</td>\n",
       "      <td>Labels</td>\n",
       "      <td>14.62</td>\n",
       "      <td>2</td>\n",
       "      <td>0.0</td>\n",
       "      <td>6.8714</td>\n",
       "    </tr>\n",
       "  </tbody>\n",
       "</table>\n",
       "</div>"
      ],
      "text/plain": [
       "      Ship Mode    Segment        Country         City       State  \\\n",
       "0  Second Class   Consumer  United States    Henderson    Kentucky   \n",
       "1  Second Class   Consumer  United States    Henderson    Kentucky   \n",
       "2  Second Class  Corporate  United States  Los Angeles  California   \n",
       "\n",
       "   Postal Code Region         Category Sub-Category   Sales  Quantity  \\\n",
       "0        42420  South        Furniture    Bookcases  261.96         2   \n",
       "1        42420  South        Furniture       Chairs  731.94         3   \n",
       "2        90036   West  Office Supplies       Labels   14.62         2   \n",
       "\n",
       "   Discount    Profit  \n",
       "0       0.0   41.9136  \n",
       "1       0.0  219.5820  \n",
       "2       0.0    6.8714  "
      ]
     },
     "execution_count": 5,
     "metadata": {},
     "output_type": "execute_result"
    }
   ],
   "source": [
    "data.head(3)"
   ]
  },
  {
   "cell_type": "markdown",
   "id": "88eff299",
   "metadata": {},
   "source": [
    "<u>Features and Labels</u>"
   ]
  },
  {
   "cell_type": "code",
   "execution_count": 6,
   "id": "c5f46943",
   "metadata": {},
   "outputs": [],
   "source": [
    "X = data.iloc[:,:-1] #Features \n",
    "y = data.iloc[:,-1] #Labels"
   ]
  },
  {
   "cell_type": "code",
   "execution_count": 7,
   "id": "39ead8e4",
   "metadata": {},
   "outputs": [
    {
     "data": {
      "text/plain": [
       "((9994, 12), (9994,))"
      ]
     },
     "execution_count": 7,
     "metadata": {},
     "output_type": "execute_result"
    }
   ],
   "source": [
    "X.shape,y.shape"
   ]
  },
  {
   "cell_type": "markdown",
   "id": "cc74f04f",
   "metadata": {},
   "source": [
    "<u>Data Transformation</u>"
   ]
  },
  {
   "cell_type": "markdown",
   "id": "2d2deed1",
   "metadata": {},
   "source": [
    "- Categorical to numerical"
   ]
  },
  {
   "cell_type": "code",
   "execution_count": 8,
   "id": "3dbaeafd",
   "metadata": {},
   "outputs": [],
   "source": [
    "le = LabelEncoder()\n",
    "for col in X.select_dtypes(\"O\").columns:\n",
    "    X[col] = le.fit_transform(X[col])"
   ]
  },
  {
   "cell_type": "code",
   "execution_count": 9,
   "id": "5e1387a8",
   "metadata": {},
   "outputs": [
    {
     "data": {
      "text/html": [
       "<div>\n",
       "<style scoped>\n",
       "    .dataframe tbody tr th:only-of-type {\n",
       "        vertical-align: middle;\n",
       "    }\n",
       "\n",
       "    .dataframe tbody tr th {\n",
       "        vertical-align: top;\n",
       "    }\n",
       "\n",
       "    .dataframe thead th {\n",
       "        text-align: right;\n",
       "    }\n",
       "</style>\n",
       "<table border=\"1\" class=\"dataframe\">\n",
       "  <thead>\n",
       "    <tr style=\"text-align: right;\">\n",
       "      <th></th>\n",
       "      <th>Ship Mode</th>\n",
       "      <th>Segment</th>\n",
       "      <th>Country</th>\n",
       "      <th>City</th>\n",
       "      <th>State</th>\n",
       "      <th>Postal Code</th>\n",
       "      <th>Region</th>\n",
       "      <th>Category</th>\n",
       "      <th>Sub-Category</th>\n",
       "      <th>Sales</th>\n",
       "      <th>Quantity</th>\n",
       "      <th>Discount</th>\n",
       "    </tr>\n",
       "  </thead>\n",
       "  <tbody>\n",
       "    <tr>\n",
       "      <th>0</th>\n",
       "      <td>2</td>\n",
       "      <td>0</td>\n",
       "      <td>0</td>\n",
       "      <td>194</td>\n",
       "      <td>15</td>\n",
       "      <td>42420</td>\n",
       "      <td>2</td>\n",
       "      <td>0</td>\n",
       "      <td>4</td>\n",
       "      <td>261.96</td>\n",
       "      <td>2</td>\n",
       "      <td>0.0</td>\n",
       "    </tr>\n",
       "    <tr>\n",
       "      <th>1</th>\n",
       "      <td>2</td>\n",
       "      <td>0</td>\n",
       "      <td>0</td>\n",
       "      <td>194</td>\n",
       "      <td>15</td>\n",
       "      <td>42420</td>\n",
       "      <td>2</td>\n",
       "      <td>0</td>\n",
       "      <td>5</td>\n",
       "      <td>731.94</td>\n",
       "      <td>3</td>\n",
       "      <td>0.0</td>\n",
       "    </tr>\n",
       "  </tbody>\n",
       "</table>\n",
       "</div>"
      ],
      "text/plain": [
       "   Ship Mode  Segment  Country  City  State  Postal Code  Region  Category  \\\n",
       "0          2        0        0   194     15        42420       2         0   \n",
       "1          2        0        0   194     15        42420       2         0   \n",
       "\n",
       "   Sub-Category   Sales  Quantity  Discount  \n",
       "0             4  261.96         2       0.0  \n",
       "1             5  731.94         3       0.0  "
      ]
     },
     "execution_count": 9,
     "metadata": {},
     "output_type": "execute_result"
    }
   ],
   "source": [
    "X.head(2)"
   ]
  },
  {
   "cell_type": "markdown",
   "id": "a53ce9f5",
   "metadata": {},
   "source": [
    " - Scaling continious data"
   ]
  },
  {
   "cell_type": "code",
   "execution_count": 10,
   "id": "e0f66ae8",
   "metadata": {},
   "outputs": [],
   "source": [
    "pipeline = Pipeline([\n",
    "    (\"robust scaler\",RobustScaler()),\n",
    "    (\"std_scaler\",StandardScaler())\n",
    "])\n",
    "for col in X.columns:\n",
    "    X[col]=pipeline.fit_transform(np.array(X[col]).reshape(-1,1))"
   ]
  },
  {
   "cell_type": "code",
   "execution_count": 11,
   "id": "41ec5d4a",
   "metadata": {
    "scrolled": true
   },
   "outputs": [
    {
     "data": {
      "text/html": [
       "<div>\n",
       "<style scoped>\n",
       "    .dataframe tbody tr th:only-of-type {\n",
       "        vertical-align: middle;\n",
       "    }\n",
       "\n",
       "    .dataframe tbody tr th {\n",
       "        vertical-align: top;\n",
       "    }\n",
       "\n",
       "    .dataframe thead th {\n",
       "        text-align: right;\n",
       "    }\n",
       "</style>\n",
       "<table border=\"1\" class=\"dataframe\">\n",
       "  <thead>\n",
       "    <tr style=\"text-align: right;\">\n",
       "      <th></th>\n",
       "      <th>Ship Mode</th>\n",
       "      <th>Segment</th>\n",
       "      <th>Country</th>\n",
       "      <th>City</th>\n",
       "      <th>State</th>\n",
       "      <th>Postal Code</th>\n",
       "      <th>Region</th>\n",
       "      <th>Category</th>\n",
       "      <th>Sub-Category</th>\n",
       "      <th>Sales</th>\n",
       "      <th>Quantity</th>\n",
       "      <th>Discount</th>\n",
       "    </tr>\n",
       "  </thead>\n",
       "  <tbody>\n",
       "    <tr>\n",
       "      <th>0</th>\n",
       "      <td>-0.213513</td>\n",
       "      <td>-0.864161</td>\n",
       "      <td>0.0</td>\n",
       "      <td>-0.617727</td>\n",
       "      <td>-0.473638</td>\n",
       "      <td>-0.398302</td>\n",
       "      <td>0.369413</td>\n",
       "      <td>-1.544978</td>\n",
       "      <td>-0.710815</td>\n",
       "      <td>0.051511</td>\n",
       "      <td>-0.804303</td>\n",
       "      <td>-0.756643</td>\n",
       "    </tr>\n",
       "    <tr>\n",
       "      <th>1</th>\n",
       "      <td>-0.213513</td>\n",
       "      <td>-0.864161</td>\n",
       "      <td>0.0</td>\n",
       "      <td>-0.617727</td>\n",
       "      <td>-0.473638</td>\n",
       "      <td>-0.398302</td>\n",
       "      <td>0.369413</td>\n",
       "      <td>-1.544978</td>\n",
       "      <td>-0.512842</td>\n",
       "      <td>0.805634</td>\n",
       "      <td>-0.354865</td>\n",
       "      <td>-0.756643</td>\n",
       "    </tr>\n",
       "  </tbody>\n",
       "</table>\n",
       "</div>"
      ],
      "text/plain": [
       "   Ship Mode   Segment  Country      City     State  Postal Code    Region  \\\n",
       "0  -0.213513 -0.864161      0.0 -0.617727 -0.473638    -0.398302  0.369413   \n",
       "1  -0.213513 -0.864161      0.0 -0.617727 -0.473638    -0.398302  0.369413   \n",
       "\n",
       "   Category  Sub-Category     Sales  Quantity  Discount  \n",
       "0 -1.544978     -0.710815  0.051511 -0.804303 -0.756643  \n",
       "1 -1.544978     -0.512842  0.805634 -0.354865 -0.756643  "
      ]
     },
     "execution_count": 11,
     "metadata": {},
     "output_type": "execute_result"
    }
   ],
   "source": [
    "X.head(2)"
   ]
  },
  {
   "cell_type": "markdown",
   "id": "39d8107b",
   "metadata": {},
   "source": [
    "<u>Model Selection</u>"
   ]
  },
  {
   "cell_type": "code",
   "execution_count": 12,
   "id": "353710b7",
   "metadata": {},
   "outputs": [],
   "source": [
    "if y.dtype in [object]:\n",
    "    estimators = {\"KNearestNeighbor\":KNeighborsClassifier(),\n",
    "                 \"SVM\":SVC(),\"DecisionTreeClassifier\":DecisionTreeClassifier(),\n",
    "                 \"AdaBoostClassifier\":AdaBoostClassifier(),\n",
    "                 \"GradientBoostingClassifier\":GradientBoostingClassifier(),\n",
    "                 \"LogisticRegression\":LogisticRegression()}\n",
    "elif y.dtype in [float,int]:\n",
    "    estimators = {\"KNearestNeighbor\":KNeighborsRegressor(),\n",
    "                 \"SVR\":SVR(),\"DecisionTreeRegressor\":DecisionTreeRegressor(),\n",
    "                 \"AdaBoostRegressor\":AdaBoostRegressor(),\n",
    "                 \"GradientBoostingRegressor\":GradientBoostingRegressor(),\n",
    "                 \"LinearRegression\":LinearRegression(),\n",
    "                 \"LassoRegression\":Lasso(),\"RidgeRegression\":Ridge()}"
   ]
  },
  {
   "cell_type": "code",
   "execution_count": 15,
   "id": "8e9e75a8",
   "metadata": {},
   "outputs": [
    {
     "data": {
      "text/plain": [
       "{'KNearestNeighbor': KNeighborsRegressor(),\n",
       " 'SVR': SVR(),\n",
       " 'DecisionTreeRegressor': DecisionTreeRegressor(),\n",
       " 'AdaBoostRegressor': AdaBoostRegressor(),\n",
       " 'GradientBoostingRegressor': GradientBoostingRegressor(),\n",
       " 'LinearRegression': LinearRegression(),\n",
       " 'LassoRegression': Lasso(),\n",
       " 'RidgeRegression': Ridge()}"
      ]
     },
     "execution_count": 15,
     "metadata": {},
     "output_type": "execute_result"
    }
   ],
   "source": [
    "estimators"
   ]
  },
  {
   "cell_type": "markdown",
   "id": "ab42c7a7",
   "metadata": {},
   "source": [
    "<u>Training and Testing the model</u>"
   ]
  },
  {
   "cell_type": "code",
   "execution_count": 18,
   "id": "421f91e8",
   "metadata": {
    "scrolled": true
   },
   "outputs": [],
   "source": [
    "if y.dtype in [object]:\n",
    "    str_kfold = StratifiedKFold(n_splits=10)\n",
    "elif y.dtype in [float,int]:\n",
    "    kfold = KFold(n_splits=10)"
   ]
  },
  {
   "cell_type": "code",
   "execution_count": 40,
   "id": "cb42a050",
   "metadata": {},
   "outputs": [],
   "source": [
    "if y.dtype in [object]:\n",
    "    model_train_scores,model_test_scores = [],[]\n",
    "    for estimator in estimators.values():\n",
    "        train_scores,test_scores = [],[]\n",
    "        for train_index,test_index in str_kfold.split(X,y):\n",
    "            X_train,X_test = X.iloc[train_index,:],X.iloc[test_index,:]\n",
    "            y_train,y_test = y.iloc[train_index],y.iloc[test_index]\n",
    "            estimator.fit(X_train,y_train)\n",
    "            train_scores.append(estimator.score(X_train,y_train))\n",
    "            test_scores.append(estimator.score(X_test,y_test))\n",
    "        model_train_scores.append(np.array(train_scores).mean())\n",
    "        model_test_scores.append(np.array(test_scores).mean())\n",
    "    df = pd.DataFrame({\"Model\":estimators.values(),\n",
    "             \"Train Score\":model_train_scores,\n",
    "             \"Test Score\":model_test_scores})\n",
    "    df[\"Model\"] = df[\"Model\"].apply(lambda x:str(x)[:-2])\n",
    "elif y.dtype in [float,int]:\n",
    "    model_train_errors,model_test_errors = [],[]\n",
    "    for estimator in estimators.values():\n",
    "        train_errors,test_errors = [],[]\n",
    "        for train_index,test_index in kfold.split(X,y):\n",
    "            X_train,X_test = X.iloc[train_index,:],X.iloc[test_index,:]\n",
    "            y_train,y_test = y.iloc[train_index],y.iloc[test_index]\n",
    "            estimator.fit(X_train,y_train)\n",
    "            train_pred = estimator.predict(X_train)\n",
    "            test_pred = estimator.predict(X_test)\n",
    "            train_errors.append(mean_squared_error(y_train,train_pred))\n",
    "            test_errors.append(mean_squared_error(y_test,test_pred))\n",
    "        model_train_errors.append(np.array(train_errors).mean())\n",
    "        model_test_errors.append(np.array(test_errors).mean())\n",
    "    df = pd.DataFrame({\"Model\":estimators.values(),\n",
    "                 \"Train Errors\":np.sqrt(np.array(model_train_errors)),\n",
    "                 \"Test Errors\":np.sqrt(np.array(model_test_errors))})\n",
    "    df[\"Model\"] = df[\"Model\"].apply(lambda x:str(x)[:-2])"
   ]
  },
  {
   "cell_type": "code",
   "execution_count": 41,
   "id": "b938f96f",
   "metadata": {},
   "outputs": [
    {
     "data": {
      "text/html": [
       "<div>\n",
       "<style scoped>\n",
       "    .dataframe tbody tr th:only-of-type {\n",
       "        vertical-align: middle;\n",
       "    }\n",
       "\n",
       "    .dataframe tbody tr th {\n",
       "        vertical-align: top;\n",
       "    }\n",
       "\n",
       "    .dataframe thead th {\n",
       "        text-align: right;\n",
       "    }\n",
       "</style>\n",
       "<table border=\"1\" class=\"dataframe\">\n",
       "  <thead>\n",
       "    <tr style=\"text-align: right;\">\n",
       "      <th></th>\n",
       "      <th>Model</th>\n",
       "      <th>Train Errors</th>\n",
       "      <th>Test Errors</th>\n",
       "    </tr>\n",
       "  </thead>\n",
       "  <tbody>\n",
       "    <tr>\n",
       "      <th>0</th>\n",
       "      <td>KNeighborsRegressor</td>\n",
       "      <td>142.668557</td>\n",
       "      <td>179.734198</td>\n",
       "    </tr>\n",
       "    <tr>\n",
       "      <th>1</th>\n",
       "      <td>SVR</td>\n",
       "      <td>229.705330</td>\n",
       "      <td>229.854147</td>\n",
       "    </tr>\n",
       "    <tr>\n",
       "      <th>2</th>\n",
       "      <td>DecisionTreeRegressor</td>\n",
       "      <td>0.599631</td>\n",
       "      <td>157.916586</td>\n",
       "    </tr>\n",
       "    <tr>\n",
       "      <th>3</th>\n",
       "      <td>AdaBoostRegressor</td>\n",
       "      <td>183.934289</td>\n",
       "      <td>210.216682</td>\n",
       "    </tr>\n",
       "    <tr>\n",
       "      <th>4</th>\n",
       "      <td>GradientBoostingRegressor</td>\n",
       "      <td>45.625670</td>\n",
       "      <td>119.314138</td>\n",
       "    </tr>\n",
       "    <tr>\n",
       "      <th>5</th>\n",
       "      <td>LinearRegression</td>\n",
       "      <td>197.795776</td>\n",
       "      <td>204.897067</td>\n",
       "    </tr>\n",
       "    <tr>\n",
       "      <th>6</th>\n",
       "      <td>Lasso</td>\n",
       "      <td>197.828300</td>\n",
       "      <td>204.878082</td>\n",
       "    </tr>\n",
       "    <tr>\n",
       "      <th>7</th>\n",
       "      <td>Ridge</td>\n",
       "      <td>197.795777</td>\n",
       "      <td>204.896002</td>\n",
       "    </tr>\n",
       "  </tbody>\n",
       "</table>\n",
       "</div>"
      ],
      "text/plain": [
       "                       Model  Train Errors  Test Errors\n",
       "0        KNeighborsRegressor    142.668557   179.734198\n",
       "1                        SVR    229.705330   229.854147\n",
       "2      DecisionTreeRegressor      0.599631   157.916586\n",
       "3          AdaBoostRegressor    183.934289   210.216682\n",
       "4  GradientBoostingRegressor     45.625670   119.314138\n",
       "5           LinearRegression    197.795776   204.897067\n",
       "6                      Lasso    197.828300   204.878082\n",
       "7                      Ridge    197.795777   204.896002"
      ]
     },
     "execution_count": 41,
     "metadata": {},
     "output_type": "execute_result"
    }
   ],
   "source": [
    "df"
   ]
  },
  {
   "cell_type": "code",
   "execution_count": null,
   "id": "45a0f9c2",
   "metadata": {},
   "outputs": [],
   "source": []
  }
 ],
 "metadata": {
  "kernelspec": {
   "display_name": "Python 3 (ipykernel)",
   "language": "python",
   "name": "python3"
  },
  "language_info": {
   "codemirror_mode": {
    "name": "ipython",
    "version": 3
   },
   "file_extension": ".py",
   "mimetype": "text/x-python",
   "name": "python",
   "nbconvert_exporter": "python",
   "pygments_lexer": "ipython3",
   "version": "3.10.0"
  }
 },
 "nbformat": 4,
 "nbformat_minor": 5
}
